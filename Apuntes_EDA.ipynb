{
  "nbformat": 4,
  "nbformat_minor": 0,
  "metadata": {
    "colab": {
      "provenance": [],
      "authorship_tag": "ABX9TyNtbLfQCA5vBcd8JLalfqxZ",
      "include_colab_link": true
    },
    "kernelspec": {
      "name": "python3",
      "display_name": "Python 3"
    },
    "language_info": {
      "name": "python"
    }
  },
  "cells": [
    {
      "cell_type": "markdown",
      "metadata": {
        "id": "view-in-github",
        "colab_type": "text"
      },
      "source": [
        "<a href=\"https://colab.research.google.com/github/Mateo7899/Apuntes-en-inteligencia-artificial/blob/main/Apuntes_EDA.ipynb\" target=\"_parent\"><img src=\"https://colab.research.google.com/assets/colab-badge.svg\" alt=\"Open In Colab\"/></a>"
      ]
    },
    {
      "cell_type": "code",
      "execution_count": null,
      "metadata": {
        "id": "h8ynxSpMZQin"
      },
      "outputs": [],
      "source": []
    },
    {
      "cell_type": "markdown",
      "source": [
        "#Variables en python  \n",
        "Las variables categoricas o text se guardaran inicialmente en tipo object\n",
        "Las variables numericas se guardan en tipo int o float (8,16,32,64)"
      ],
      "metadata": {
        "id": "s-fMvFA_IjjR"
      }
    },
    {
      "cell_type": "markdown",
      "source": [
        "#e\n",
        "\n",
        "* esta es una tabulacion\n",
        "* esta es otra"
      ],
      "metadata": {
        "id": "JwWy6rTnI7Vw"
      }
    },
    {
      "cell_type": "code",
      "source": [],
      "metadata": {
        "id": "7JgC2lUhImzH"
      },
      "execution_count": null,
      "outputs": []
    }
  ]
}